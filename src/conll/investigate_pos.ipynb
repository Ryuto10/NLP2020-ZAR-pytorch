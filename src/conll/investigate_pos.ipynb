{
 "cells": [
  {
   "cell_type": "code",
   "execution_count": 1,
   "metadata": {},
   "outputs": [],
   "source": [
    "import json\n",
    "from itertools import islice\n",
    "\n",
    "def read_file(file):\n",
    "    with open(file) as fi:\n",
    "        for line in fi:\n",
    "            line = line.strip()\n",
    "            if not line:\n",
    "                continue\n",
    "            yield json.loads(line)"
   ]
  },
  {
   "cell_type": "code",
   "execution_count": 2,
   "metadata": {},
   "outputs": [],
   "source": [
    "file = \"/Users/ryuto/lab/research/work/ACL2020/conll/train.jsonl\""
   ]
  },
  {
   "cell_type": "code",
   "execution_count": 4,
   "metadata": {},
   "outputs": [
    {
     "data": {
      "text/plain": [
       "<matplotlib.axes._subplots.AxesSubplot at 0x1128b6ed0>"
      ]
     },
     "execution_count": 4,
     "metadata": {},
     "output_type": "execute_result"
    },
    {
     "data": {
      "image/png": "[encoded data removed]",
      "text/plain": [
       "<Figure size 1800x360 with 1 Axes>"
      ]
     },
     "metadata": {
      "needs_background": "light"
     },
     "output_type": "display_data"
    }
   ],
   "source": [
    "from collections import Counter\n",
    "import matplotlib.pyplot as plt\n",
    "import pandas as pd\n",
    "import seaborn as sns\n",
    "\n",
    "c = Counter(pos for instance in read_file(file) for pos in instance[\"pos_tags\"])\n",
    "x, y = list(zip(*c.most_common()))\n",
    "df = pd.DataFrame({\"pos\": x, \"freq\": y})\n",
    "plt.figure(figsize=(25,5))\n",
    "sns.set_context(\"paper\", 1.6)\n",
    "sns.barplot(data=df, x=\"pos\", y=\"freq\")"
   ]
  },
  {
   "cell_type": "markdown",
   "metadata": {},
   "source": [
    "# 品詞が全体に占める割合"
   ]
  },
  {
   "cell_type": "code",
   "execution_count": 20,
   "metadata": {},
   "outputs": [],
   "source": [
    "NOUN = [\"NN\", \"NNS\", \"NNP\", \"NNPS\"]\n",
    "ADJ = [\"JJ\", \"JJR\", \"JJS\"]\n",
    "ADV = [\"RB\", \"RBR\", \"RBS\", \"RP\"]\n",
    "VB = [\"VB\", \"VBD\", \"VBG\", \"VBN\", \"VBP\", \"VBZ\"]\n",
    "RARE_FNC = [\"LS\", \"SYM\", \"UH\", \"``\", \"#\", \"WP$\", \"FW\", \"PDT\", \"AUXG\", \"EX\"]\n",
    "SYM = [\"#\", \"$\", \".\", \",\", \":\", \"(\", \")\", \"\\\"\", \"'\", \"``\",  \"`\", \"''\"]\n",
    "\n",
    "MODE = {\"noun\": NOUN, \"adj\": ADJ, \"adv\": ADV, \"vb\": VB, \"fnc\": NOUN + ADJ + ADV + VB,\n",
    "        \"low_func\": RARE_FNC, \"high_func\": NOUN + ADJ + ADV + VB + RARE_FNC, \"symbol\": SYM}"
   ]
  },
  {
   "cell_type": "code",
   "execution_count": 23,
   "metadata": {},
   "outputs": [
    {
     "name": "stdout",
     "output_type": "stream",
     "text": [
      "noun 0.3024331914427785\n",
      "adj 0.0697558387752782\n",
      "adv 0.03813361290404072\n",
      "vb 0.09541087210061178\n",
      "fnc 0.4942664847772908\n",
      "low_func 0.0029504393554716283\n",
      "high_func 0.49131604542181917\n",
      "symbol 0.12180062061328718\n"
     ]
    }
   ],
   "source": [
    "n = sum(c.values())\n",
    "for name in MODE:\n",
    "    if name == \"fnc\" or name == \"high_func\":\n",
    "        a = sum(v for k, v in c.most_common() if k not in MODE[name])\n",
    "    else:\n",
    "        a = sum(v for k, v in c.most_common() if k in MODE[name])\n",
    "    print(name, a / n)"
   ]
  },
  {
   "cell_type": "markdown",
   "metadata": {},
   "source": [
    "# 述語の品詞は何？"
   ]
  },
  {
   "cell_type": "code",
   "execution_count": 27,
   "metadata": {},
   "outputs": [
    {
     "name": "stdout",
     "output_type": "stream",
     "text": [
      "VBD 21361\n",
      "VB 20640\n",
      "VBN 17551\n",
      "VBG 13001\n",
      "VBZ 9427\n",
      "VBP 5299\n",
      "AUX 3061\n",
      "JJ 197\n",
      "NN 107\n",
      "AUXG 74\n",
      "NNP 16\n",
      "NNS 11\n",
      "RB 2\n",
      "IN 2\n",
      "NNPS 1\n"
     ]
    }
   ],
   "source": [
    "c = Counter(instance[\"pos_tags\"][arg[\"verb_idx\"]] for instance in read_file(file) for arg in instance[\"labels\"])\n",
    "for k, v in c.most_common():\n",
    "    print(\"{} {}\".format(k, v))"
   ]
  },
  {
   "cell_type": "code",
   "execution_count": null,
   "metadata": {},
   "outputs": [],
   "source": []
  }
 ],
 "metadata": {
  "kernelspec": {
   "display_name": "Python 3",
   "language": "python",
   "name": "python3"
  },
  "language_info": {
   "codemirror_mode": {
    "name": "ipython",
    "version": 3
   },
   "file_extension": ".py",
   "mimetype": "text/x-python",
   "name": "python",
   "nbconvert_exporter": "python",
   "pygments_lexer": "ipython3",
   "version": "3.7.4"
  }
 },
 "nbformat": 4,
 "nbformat_minor": 4
}
