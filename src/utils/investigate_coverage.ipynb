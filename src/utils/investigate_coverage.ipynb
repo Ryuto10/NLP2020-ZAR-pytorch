{
 "cells": [
  {
   "cell_type": "code",
   "execution_count": 1,
   "metadata": {},
   "outputs": [],
   "source": [
    "case_study_dir = \"/Users/ryuto/lab/research/work/ACL2020/Args_PRED_IN_S_NOT_DEP_ALL\""
   ]
  },
  {
   "cell_type": "code",
   "execution_count": 2,
   "metadata": {},
   "outputs": [],
   "source": [
    "import re\n",
    "\n",
    "def extract_case_study(file):\n",
    "    with open(file) as fi:\n",
    "        result = []\n",
    "        for line in fi:\n",
    "            if re.match(r\"(.*?)ntc\", line):\n",
    "                file_name, sent_id, prd_id, *_, case = line.rstrip(\"\\n\").split()\n",
    "                result.append((file_name, int(sent_id), int(prd_id), case))\n",
    "    return result"
   ]
  },
  {
   "cell_type": "code",
   "execution_count": 3,
   "metadata": {},
   "outputs": [],
   "source": [
    "np = case_study_dir + \"/np.txt\"\n",
    "pn = case_study_dir + \"/pn.txt\"\n",
    "train = \"/Users/ryuto/lab/research/work/ACL2020/train.jsonl\"\n",
    "dev = \"/Users/ryuto/lab/research/work/ACL2020/dev.jsonl\""
   ]
  },
  {
   "cell_type": "code",
   "execution_count": 4,
   "metadata": {},
   "outputs": [],
   "source": [
    "case_study = list(set(extract_case_study(np) + extract_case_study(pn)))"
   ]
  },
  {
   "cell_type": "code",
   "execution_count": 5,
   "metadata": {},
   "outputs": [
    {
     "data": {
      "text/plain": [
       "[('9509ED-0048-950929044.ntc', 12, 5, 'ga'),\n",
       " ('950112-0200-950112282.ntc', 4, 7, 'o'),\n",
       " ('950113-0010-950113013.ntc', 0, 68, 'ga'),\n",
       " ('950112-0094-950112122.ntc', 5, 5, 'ga'),\n",
       " ('950113-0152-950113219.ntc', 3, 27, 'ga'),\n",
       " ('950112-0119-950112169.ntc', 1, 5, 'ga'),\n",
       " ('950112-0207-950112297.ntc', 1, 18, 'ga'),\n",
       " ('9509ED-0013-950909045.ntc', 26, 27, 'o'),\n",
       " ('950113-0017-950113021.ntc', 4, 30, 'o'),\n",
       " ('9509ED-0013-950909045.ntc', 9, 22, 'ga')]"
      ]
     },
     "execution_count": 5,
     "metadata": {},
     "output_type": "execute_result"
    }
   ],
   "source": [
    "case_study[:10]"
   ]
  },
  {
   "cell_type": "code",
   "execution_count": 6,
   "metadata": {},
   "outputs": [],
   "source": [
    "import json\n",
    "\n",
    "with open(train) as fi:\n",
    "    train_instances = [json.loads(line) for line in fi]\n",
    "with open(dev) as fi:\n",
    "    dev_instances = [json.loads(line) for line in fi]"
   ]
  },
  {
   "cell_type": "code",
   "execution_count": 7,
   "metadata": {},
   "outputs": [],
   "source": [
    "from os import path\n",
    "\n",
    "def extract_pc(instance, p_id, case):\n",
    "    converter = {\"ga\": 0, \"o\": 1, \"ni\": 2}\n",
    "    for pas in instance[\"pas\"]:\n",
    "        if pas[\"p_id\"] == p_id:\n",
    "            c_id, c_base, c_type = None, None, None\n",
    "            \n",
    "            if converter[case] in pas[\"args\"]:\n",
    "                c_id = pas[\"args\"].index(converter[case])\n",
    "                c_base = instance[\"bases\"][c_id]\n",
    "                c_type = pas[\"types\"][c_id]\n",
    "                \n",
    "            p_base = instance[\"bases\"][p_id]\n",
    "            \n",
    "            return  c_id, c_base, c_type, p_base\n",
    "\n",
    "not_corrects = []\n",
    "\n",
    "for cs in case_study:\n",
    "    for instance in dev_instances:\n",
    "        file_name, sent_id, p_id, case = cs\n",
    "        if path.basename(instance[\"file name\"]) == file_name and instance[\"sentence id\"] == sent_id:\n",
    "            c_id, c_base, c_type, p_base = extract_pc(instance, p_id, case)\n",
    "            not_corrects.append((c_id, c_base, c_type, case, p_id, p_base, instance[\"bases\"]))\n",
    "            break"
   ]
  },
  {
   "cell_type": "code",
   "execution_count": 8,
   "metadata": {},
   "outputs": [
    {
     "name": "stdout",
     "output_type": "stream",
     "text": [
      "2456\n"
     ]
    },
    {
     "data": {
      "text/plain": [
       "(1,\n",
       " '知事',\n",
       " 'zero',\n",
       " 'ga',\n",
       " 5,\n",
       " '基づく',\n",
       " ['青島', '知事', 'は', '公約', 'に', '基づく', '世界', '都市', '博', '中止', 'に', '踏み切る', '。'])"
      ]
     },
     "execution_count": 8,
     "metadata": {},
     "output_type": "execute_result"
    }
   ],
   "source": [
    "print(len(not_corrects))\n",
    "not_corrects[0]"
   ]
  },
  {
   "cell_type": "code",
   "execution_count": 9,
   "metadata": {},
   "outputs": [
    {
     "name": "stdout",
     "output_type": "stream",
     "text": [
      "6370 2663 827 2043 710\n"
     ]
    }
   ],
   "source": [
    "train_prd = set(instance[\"bases\"][pas[\"p_id\"]] for instance in train_instances for pas in instance[\"pas\"])\n",
    "dev_prd = set(instance[\"bases\"][pas[\"p_id\"]] for instance in dev_instances for pas in instance[\"pas\"])\n",
    "not_corrects_prd = set(prd for *_, prd, _ in not_corrects)\n",
    "print(len(train_prd), len(dev_prd), len(not_corrects_prd), len(train_prd & dev_prd), len(not_corrects_prd & train_prd))"
   ]
  },
  {
   "cell_type": "code",
   "execution_count": 10,
   "metadata": {},
   "outputs": [],
   "source": [
    "from collections import Counter\n",
    "\n",
    "train_prd_count = Counter(instance[\"bases\"][pas[\"p_id\"]] for instance in train_instances for pas in instance[\"pas\"])"
   ]
  },
  {
   "cell_type": "code",
   "execution_count": 10,
   "metadata": {},
   "outputs": [],
   "source": [
    "from collections import Counter\n",
    "dev = Counter(len(instance[\"bases\"]) for instance in dev_instances for pas in instance[\"pas\"])\n",
    "nc = Counter(len(bases) for *_, bases in not_corrects)"
   ]
  },
  {
   "cell_type": "code",
   "execution_count": 12,
   "metadata": {},
   "outputs": [],
   "source": [
    "import pandas as pd\n",
    "import matplotlib as mpl\n",
    "import matplotlib.pyplot as plt\n",
    "max_len = max(dev + nc)\n",
    "df = pd.DataFrame({\"dev_DEP\": [dev[i] if i in dev else 0 for i in range(max_len + 1)], \n",
    "                   \"dev_not_correct\": [nc[i] if i in nc else 0 for i in range(max_len + 1)]})"
   ]
  },
  {
   "cell_type": "code",
   "execution_count": 13,
   "metadata": {},
   "outputs": [
    {
     "data": {
      "text/plain": [
       "<matplotlib.axes._subplots.AxesSubplot at 0x10d701090>"
      ]
     },
     "execution_count": 13,
     "metadata": {},
     "output_type": "execute_result"
    },
    {
     "data": {
      "image/png": "[encoded data removed]",
      "text/plain": [
       "<Figure size 1440x360 with 1 Axes>"
      ]
     },
     "metadata": {
      "needs_background": "light"
     },
     "output_type": "display_data"
    }
   ],
   "source": [
    "df.plot(kind=\"bar\", figsize=(20, 5))"
   ]
  },
  {
   "cell_type": "code",
   "execution_count": 14,
   "metadata": {},
   "outputs": [],
   "source": [
    "def length_between_cp(instances, c_type):\n",
    "    lens = []\n",
    "    for instance in instances:\n",
    "        lens += [abs(pas[\"args\"].index(case) - pas[\"p_id\"]) for pas in instance[\"pas\"] for case in [0, 1, 2] if case in pas[\"args\"] and c_type == pas[\"types\"][pas[\"args\"].index(case)]]\n",
    "    return Counter(lens)\n",
    "\n",
    "\n",
    "dep_dev = length_between_cp(dev_instances, \"dep\")\n",
    "zero_dev = length_between_cp(dev_instances, \"zero\")\n",
    "dep_nc = Counter(abs(c_id - p_id) for c_id, _, c_type, _, p_id, p_base, _ in not_corrects if c_id is not None and c_type == \"dep\")\n",
    "zero_nc = Counter(abs(c_id - p_id) for c_id, _, c_type, _, p_id, p_base, _ in not_corrects if c_id is not None and c_type == \"zero\")"
   ]
  },
  {
   "cell_type": "code",
   "execution_count": 15,
   "metadata": {},
   "outputs": [
    {
     "data": {
      "text/plain": [
       "<matplotlib.axes._subplots.AxesSubplot at 0x153566490>"
      ]
     },
     "execution_count": 15,
     "metadata": {},
     "output_type": "execute_result"
    },
    {
     "data": {
      "image/png": "[encoded data removed]",
      "text/plain": [
       "<Figure size 1440x360 with 1 Axes>"
      ]
     },
     "metadata": {
      "needs_background": "light"
     },
     "output_type": "display_data"
    }
   ],
   "source": [
    "max_len = max(dep_dev + dep_nc)\n",
    "df = pd.DataFrame({\"zero_dev\": [zero_dev[i] if i in dep_dev else 0 for i in range(max_len + 1)], \n",
    "                   \"zero_nc\": [zero_nc[i] if i in dep_nc else 0 for i in range(max_len + 1)]})\n",
    "df.plot(kind=\"bar\", figsize=(20, 5))"
   ]
  },
  {
   "cell_type": "code",
   "execution_count": 16,
   "metadata": {},
   "outputs": [
    {
     "data": {
      "text/plain": [
       "<matplotlib.axes._subplots.AxesSubplot at 0x15cc02710>"
      ]
     },
     "execution_count": 16,
     "metadata": {},
     "output_type": "execute_result"
    },
    {
     "data": {
      "image/png": "[encoded data removed]",
      "text/plain": [
       "<Figure size 1440x360 with 1 Axes>"
      ]
     },
     "metadata": {
      "needs_background": "light"
     },
     "output_type": "display_data"
    }
   ],
   "source": [
    "max_len = max(dep_dev + dep_nc)\n",
    "df = pd.DataFrame({\"dep_nc\": [dep_nc[i] if i in dep_nc else 0 for i in range(max_len + 1)]})\n",
    "df.plot(kind=\"bar\", figsize=(20, 5), color=\"orange\")"
   ]
  },
  {
   "cell_type": "code",
   "execution_count": 17,
   "metadata": {},
   "outputs": [],
   "source": [
    "def get_cp(instances, c_type):\n",
    "    cps = []\n",
    "    for instance in instances:\n",
    "        cps += [(instance[\"bases\"][pas[\"args\"].index(case)], instance[\"bases\"][pas[\"p_id\"]]) \n",
    "                for pas in instance[\"pas\"] for case in [0, 1, 2] \n",
    "                if case in pas[\"args\"] and pas[\"types\"][pas[\"args\"].index(case)] == c_type]\n",
    "    return Counter(cps)\n",
    "\n",
    "dep_train = get_cp(train_instances, \"dep\")\n",
    "dep_dev = get_cp(dev_instances, \"dep\")\n",
    "dep_nc = Counter((c_base, p_base) for _, c_base, c_type, _, _, p_base, _ in not_corrects if c_base is not None and c_type == \"dep\")\n",
    "\n",
    "zero_train = get_cp(train_instances, \"zero\")\n",
    "zero_dev = get_cp(dev_instances, \"zero\")\n",
    "zero_nc = Counter((c_base, p_base) for _, c_base, c_type, _, _, p_base, _ in not_corrects if c_base is not None and c_type == \"zero\")"
   ]
  },
  {
   "cell_type": "code",
   "execution_count": 24,
   "metadata": {},
   "outputs": [
    {
     "name": "stdout",
     "output_type": "stream",
     "text": [
      "dep: dev = 10572\n",
      "dep: trainに未出現のdevのpair数 = 7107\n",
      "\n",
      "zero: dev = 2683\n",
      "zero: trainに未出現のdevのpair数 = 2122\n",
      "\n",
      "dep: 解けないpair = 237\n",
      "dep: 解けない & trainに未出現な pair数 = 151\n",
      "\n",
      "zero: 解けないpair = 1377\n",
      "zero: 解けない & trainに未出現な pair数 = 1092\n"
     ]
    }
   ],
   "source": [
    "print(\"dep: dev = {}\".format(len(dep_dev)))\n",
    "print(\"dep: trainに未出現のdevのpair数 = {}\".format(len(dep_dev) - len(dep_dev & dep_train)))\n",
    "print()\n",
    "print(\"zero: dev = {}\".format(len(zero_dev)))\n",
    "print(\"zero: trainに未出現のdevのpair数 = {}\".format(len(zero_dev) - len(zero_dev & zero_train)))\n",
    "print()\n",
    "print(\"dep: 解けないpair = {}\".format(len(dep_nc)))\n",
    "print(\"dep: 解けない & trainに未出現な pair数 = {}\".format(len(dep_nc) - len(dep_train & dep_nc)))\n",
    "print()\n",
    "print(\"zero: 解けないpair = {}\".format(len(zero_nc)))\n",
    "print(\"zero: 解けない & trainに未出現な pair数 = {}\".format(len(zero_nc) - len(zero_train & zero_nc)))"
   ]
  },
  {
   "cell_type": "code",
   "execution_count": 164,
   "metadata": {},
   "outputs": [
    {
     "name": "stdout",
     "output_type": "stream",
     "text": [
      "50235 12707 4107 1591 522\n"
     ]
    }
   ],
   "source": [
    "print(len(c30), len(c31), len(c30 & c31), len(c32), len(c30 & c32))"
   ]
  },
  {
   "cell_type": "code",
   "execution_count": null,
   "metadata": {},
   "outputs": [],
   "source": []
  }
 ],
 "metadata": {
  "kernelspec": {
   "display_name": "Python 3",
   "language": "python",
   "name": "python3"
  },
  "language_info": {
   "codemirror_mode": {
    "name": "ipython",
    "version": 3
   },
   "file_extension": ".py",
   "mimetype": "text/x-python",
   "name": "python",
   "nbconvert_exporter": "python",
   "pygments_lexer": "ipython3",
   "version": "3.7.4"
  }
 },
 "nbformat": 4,
 "nbformat_minor": 4
}
