{
 "cells": [
  {
   "cell_type": "code",
   "execution_count": 1,
   "metadata": {},
   "outputs": [],
   "source": [
    "import json\n",
    "from collections import Counter\n",
    "import matplotlib.pyplot as plt\n",
    "import matplotlib.cm as cm\n",
    "import pandas as pd\n",
    "import seaborn as sns\n",
    "import numpy as np"
   ]
  },
  {
   "cell_type": "code",
   "execution_count": 2,
   "metadata": {},
   "outputs": [],
   "source": [
    "base_random_rate = [0.0, 0.1, 0.3, 0.5, 0.7, 0.9, 1.0]\n",
    "f1 = [64.08, 64.00, 64.53, 65.02, 64.67, 63.97, 63.98]\n",
    "max_random_rate_with_minus_verb = 0.8866\n",
    "random_rate = [i * max_random_rate_with_minus_verb for i in base_random_rate]"
   ]
  },
  {
   "cell_type": "code",
   "execution_count": 3,
   "metadata": {},
   "outputs": [],
   "source": [
    "r_00 = {'Original': 25.749753952026367,\n",
    "        'Mask - Original': 0,\n",
    "        'Unmask - Original': 0}\n",
    "r_01 = {'Original': 25.749753952026367,\n",
    "        'Mask': 25.755064010620117,\n",
    "        'Unmask': 25.730131149291992,\n",
    "        'Mask - Original': 24.961137771606445,\n",
    "        'Unmask - Original': 6.143636703491211}\n",
    "r_03 = {'Original': 25.749753952026367,\n",
    "        'Mask': 25.72488021850586,\n",
    "        'Unmask': 25.624996185302734,\n",
    "        'Mask - Original': 27.957927703857422,\n",
    "        'Unmask - Original': 13.7578639984130865}\n",
    "r_05 = {'Original': 25.749753952026367,\n",
    "        'Mask': 25.690126419067383,\n",
    "        'Unmask': 25.445968627929688,\n",
    "        'Mask - Original': 30.29802703857422,\n",
    "        'Unmask - Original': 19.453472137451172}\n",
    "r_07 = {'Original': 25.749753952026367,\n",
    "        'Mask': 25.692684173583984,\n",
    "        'Unmask': 25.234317779541016,\n",
    "        'Mask - Original': 32.13936233520508,\n",
    "        'Unmask - Original': 24.125892639160156}\n",
    "r_09 = {'Original': 25.749753952026367,\n",
    "        'Mask': 25.736635208129883,\n",
    "        'Unmask': 25.0052547454834,\n",
    "        'Mask - Original': 33.54506301879883,\n",
    "        'Unmask - Original': 28.271625518798828}\n",
    "r_10 = {'Original': 25.749753952026367,\n",
    "        'Mask': 25.77303123474121,\n",
    "        'Unmask': 24.813838958740234,\n",
    "        'Mask - Original': 34.108734130859375,\n",
    "        'Unmask - Original': 30.52743911743164}\n",
    "l2s = [r_00, r_01, r_03, r_05, r_07, r_09, r_10]"
   ]
  },
  {
   "cell_type": "code",
   "execution_count": 4,
   "metadata": {},
   "outputs": [],
   "source": [
    "df1 = pd.DataFrame({\"random rate\": random_rate, \"F1\": f1}).set_index(\"random rate\")\n",
    "df2 = pd.DataFrame({\"random rate\": random_rate, \"L2_norm\": [r[\"Unmask - Original\"] for r in l2s]}).set_index(\"random rate\")\n",
    "df3 = pd.DataFrame({\"random rate\": random_rate, \"L2_norm\": [r[\"Mask - Original\"] for r in l2s]}).set_index(\"random rate\")"
   ]
  },
  {
   "cell_type": "code",
   "execution_count": 42,
   "metadata": {},
   "outputs": [],
   "source": [
    "sns.set_context(\"paper\", 2)\n",
    "\n",
    "# fig, ax1 = plt.subplots(figsize=(10, 5))\n",
    "fig, ax2 = plt.subplots(figsize=(10, 4))\n",
    "\n",
    "plt.xlabel('masking probability over the whole vocabulary $\\mathcal{V}$',fontsize=17)\n",
    "# plt.ylabel('${\\it zero}$ $\\mathrm{F}_{1}$',fontsize=25)\n",
    "# ax1.plot(df1, color=\"red\", marker='D', label=\"$\\mathcal{V}$ \\\\ $\\mathcal{V}_{verb}$ ${\\it zero}$ $\\mathrm{F}_{1}$\", markersize=10, linestyle=\"dashed\")\n",
    "# ax1.hlines(y=64.08, xmin=0, xmax=1, linestyle='dashed', color='black', label=\"Baseline ${\\it zero}$ $\\mathrm{F}_{1}$\")\n",
    "# ax1.legend(loc=(0, 0.77))\n",
    "# ax1.legend(loc=\"best\")\n",
    "\n",
    "# ax2 = ax1.twinx()  # 2つのプロットを関連付ける\n",
    "\n",
    "plt.ylabel('L2 norm',fontsize=25)\n",
    "ax2.plot(df2, marker='o', label=\"$||e_{preserved} - e^{'}_{preserved}||_2$\", markersize=10)\n",
    "ax2.plot(df3, marker='d', label=\"$||e_{mask} - e^{'}_{mask}||_2$\", markersize=10)\n",
    "# ax2.hlines(y=25.749753952026367, xmin=0, xmax=1, color='green', label=\"Original L2 norm\")\n",
    "ax2.legend(loc=\"best\")\n",
    "ax2.set_xticks(np.linspace(0, 1, 6))\n",
    "plt.grid(color='gray', linestyle=\"-.\")\n",
    "# plt.show()\n",
    "\n",
    "plt.savefig('/Users/ryuto/lab/research/work/ACL2020/ntc/curve.pdf', bbox_inches=\"tight\", format=\"pdf\")\n",
    "plt.close('all')"
   ]
  },
  {
   "cell_type": "code",
   "execution_count": null,
   "metadata": {},
   "outputs": [],
   "source": []
  }
 ],
 "metadata": {
  "kernelspec": {
   "display_name": "Python 3",
   "language": "python",
   "name": "python3"
  },
  "language_info": {
   "codemirror_mode": {
    "name": "ipython",
    "version": 3
   },
   "file_extension": ".py",
   "mimetype": "text/x-python",
   "name": "python",
   "nbconvert_exporter": "python",
   "pygments_lexer": "ipython3",
   "version": "3.7.4"
  }
 },
 "nbformat": 4,
 "nbformat_minor": 4
}
