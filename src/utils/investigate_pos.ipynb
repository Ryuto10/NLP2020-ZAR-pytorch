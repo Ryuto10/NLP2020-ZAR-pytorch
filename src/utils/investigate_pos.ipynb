{
 "cells": [
  {
   "cell_type": "code",
   "execution_count": 2,
   "metadata": {},
   "outputs": [],
   "source": [
    "ROOT = \"/Users/ryuto/lab/research/work/ACL2020\""
   ]
  },
  {
   "cell_type": "code",
   "execution_count": 3,
   "metadata": {},
   "outputs": [],
   "source": [
    "DIRS = [\"ntc\", \"conll05\", \"conll12\"]"
   ]
  },
  {
   "cell_type": "code",
   "execution_count": 4,
   "metadata": {},
   "outputs": [],
   "source": [
    "FILES = [\"train\", \"dev\"]"
   ]
  },
  {
   "cell_type": "code",
   "execution_count": 5,
   "metadata": {},
   "outputs": [],
   "source": [
    "import json\n",
    "from itertools import islice\n",
    "\n",
    "def read_file(file):\n",
    "    with open(file) as fi:\n",
    "        for line in fi:\n",
    "            line = line.strip()\n",
    "            if not line:\n",
    "                continue\n",
    "            yield json.loads(line)"
   ]
  },
  {
   "cell_type": "code",
   "execution_count": 6,
   "metadata": {},
   "outputs": [],
   "source": [
    "from collections import defaultdict"
   ]
  },
  {
   "cell_type": "code",
   "execution_count": 7,
   "metadata": {},
   "outputs": [],
   "source": [
    "NOUN = [\"NN\", \"NNS\", \"NNP\", \"NNPS\"]\n",
    "ADJ = [\"JJ\", \"JJR\", \"JJS\"]\n",
    "ADV = [\"RB\", \"RBR\", \"RBS\", \"RP\"]\n",
    "VB = [\"VB\", \"VBD\", \"VBG\", \"VBN\", \"VBP\", \"VBZ\"]\n",
    "SYM = [\"#\", \"$\", \".\", \",\", \":\", \"(\", \")\", \"\\\"\", \"'\", \"``\", \"`\", \"''\"]\n",
    "HIGH_FUNC = [\"IN\", \"DT\", \"CD\", \"AUX\", \"CC\", \"TO\", \"PRP\", \"POS\", \"MD\"]\n",
    "\n",
    "MODE = {\"noun\": NOUN, \"adj\": ADJ, \"adv\": ADV, \"vb\": VB, \"fnc\": NOUN + ADJ + ADV + VB, \"symbol\": SYM,\n",
    "        \"IN\": [\"IN\"], \"DT\": [\"DT\"], \"CD\": [\"CD\"], \"AUX\": [\"AUX\"],\n",
    "        \"CC\": [\"CC\"], \"TO\": [\"TO\"], \"PRP\": [\"PRP\"], \"POS\": [\"POS\"], \"MD\": [\"MD\"],\n",
    "        \"low_fnc\": NOUN + ADJ + ADV + VB + HIGH_FUNC}"
   ]
  },
  {
   "cell_type": "code",
   "execution_count": 8,
   "metadata": {},
   "outputs": [],
   "source": [
    "NOUN = [\"名詞\", \"接尾辞\"]\n",
    "VERB = [\"動詞\"]\n",
    "PARTICLE = [\"助詞\"]\n",
    "SYMBOL = [\"特殊\"]\n",
    "CONTENT_POS = [\"名詞\", \"接尾辞\", \"動詞\", \"形容詞\", \"副詞\", \"接頭辞\"]\n",
    "FUNCTION_POS = [\"助詞\", \"助動詞\", \"特殊\"]\n",
    "ALL = [\"名詞\", \"助詞\", \"特殊\", \"動詞\", \"接尾辞\", \"形容詞\", \"副詞\", \"接頭辞\",\n",
    "       \"指示詞\", \"判定詞\", \"助動詞\", \"接続詞\", \"連体詞\", \"感動詞\"]"
   ]
  },
  {
   "cell_type": "code",
   "execution_count": 9,
   "metadata": {},
   "outputs": [],
   "source": [
    "WHERE_MASK = {\"all\": ALL, \"noun\": NOUN, \"verb\": VERB, \"particle\": PARTICLE, \"symbol\": SYMBOL,\n",
    "              \"content\": CONTENT_POS, \"function\": FUNCTION_POS, \"argument\": None}"
   ]
  },
  {
   "cell_type": "code",
   "execution_count": 17,
   "metadata": {},
   "outputs": [
    {
     "name": "stdout",
     "output_type": "stream",
     "text": [
      "noun 954816 (43.54\\%)\n",
      "all - noun 1238084 (56.46\\%)\n",
      "particle 556296 (25.37\\%)\n",
      "all - particle 1636604 (74.63\\%)\n",
      "verb 248777 (11.34\\%)\n",
      "all - verb 1944123 (88.66\\%)\n",
      "symbol 258393 (11.78\\%)\n",
      "all - symbol 1934507 (88.22\\%)\n",
      "content 1315356 (59.98\\%)\n",
      "all - content 877544 (40.02\\%)\n",
      "function 832589 (37.97\\%)\n",
      "all - function 1360311 (62.03\\%)\n",
      "all 2192900 (100.00\\%)\n",
      "all - all 0 (0.00\\%)\n"
     ]
    }
   ],
   "source": [
    "types = [\"noun\",\"particle\", \"verb\", \"symbol\", \"content\", \"function\", \"all\"]\n",
    "\n",
    "\n",
    "for t in types:\n",
    "    c = 0\n",
    "    n = 0\n",
    "    for instance in read_file(\"{}/{}/{}.jsonl\".format(ROOT, DIRS[0], FILES[0])):\n",
    "        for pas in instance[\"pas\"]:\n",
    "            for idx, case in enumerate(pas[\"args\"]):\n",
    "                n += 1\n",
    "                if instance[\"pos\"][idx].split(\"-\")[0] in WHERE_MASK[t]:\n",
    "                    c += 1\n",
    "    print(\"{}\".format(t), c, \"({:.2f}\\%)\".format(100 * c / n))\n",
    "    print(\"all - {}\".format(t), 2192900 - c, \"({:.2f}\\%)\".format(100 * (2192900 - c) / n))"
   ]
  },
  {
   "cell_type": "code",
   "execution_count": null,
   "metadata": {},
   "outputs": [],
   "source": []
  }
 ],
 "metadata": {
  "kernelspec": {
   "display_name": "Python 3",
   "language": "python",
   "name": "python3"
  },
  "language_info": {
   "codemirror_mode": {
    "name": "ipython",
    "version": 3
   },
   "file_extension": ".py",
   "mimetype": "text/x-python",
   "name": "python",
   "nbconvert_exporter": "python",
   "pygments_lexer": "ipython3",
   "version": "3.7.4"
  }
 },
 "nbformat": 4,
 "nbformat_minor": 4
}
